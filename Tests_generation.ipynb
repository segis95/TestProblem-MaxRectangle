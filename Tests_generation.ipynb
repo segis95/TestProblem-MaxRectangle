{
 "cells": [
  {
   "cell_type": "code",
   "execution_count": 1,
   "metadata": {},
   "outputs": [],
   "source": [
    "import numpy as np"
   ]
  },
  {
   "cell_type": "markdown",
   "source": [
    "## A random binary matrix generation"
   ],
   "metadata": {
    "collapsed": false
   }
  },
  {
   "cell_type": "code",
   "execution_count": 31,
   "metadata": {},
   "outputs": [
    {
     "name": "stdout",
     "output_type": "stream",
     "text": [
      "10 10\n",
      "0 1 1 0 0 1 0 1 0 0\n",
      "0 0 1 0 1 1 1 1 1 1\n",
      "1 0 1 1 0 0 1 1 0 1\n",
      "1 1 0 1 1 0 0 1 0 0\n",
      "1 1 1 1 0 1 0 1 1 0\n",
      "1 0 1 0 1 1 1 0 0 0\n",
      "1 1 1 0 1 0 0 0 1 0\n",
      "0 1 1 1 1 0 0 0 1 0\n",
      "1 0 1 0 0 0 1 0 0 0\n",
      "0 1 0 1 1 1 1 0 1 1\n"
     ]
    }
   ],
   "source": [
    "h = 10\n",
    "w = 10\n",
    "\n",
    "arr = [['1' if np.random.rand() < 0.5 else '0' for i in range(w)] for j in range(h)]\n",
    "\n",
    "from functools import reduce\n",
    "lda = lambda x, y: x + ' ' + y\n",
    "print(h, w)\n",
    "for i in range(h):\n",
    "    print(reduce(lda, arr[i]))"
   ]
  },
  {
   "cell_type": "markdown",
   "source": [
    "## A lower triangular matrix generation"
   ],
   "metadata": {
    "collapsed": false
   }
  },
  {
   "cell_type": "code",
   "execution_count": 3,
   "metadata": {},
   "outputs": [
    {
     "name": "stdout",
     "output_type": "stream",
     "text": [
      "10 10\n",
      "0 0 0 0 0 0 0 0 0 1\n",
      "0 0 0 0 0 0 0 0 1 1\n",
      "0 0 0 0 0 0 0 1 1 1\n",
      "0 0 0 0 0 0 1 1 1 1\n",
      "0 0 0 0 0 1 1 1 1 1\n",
      "0 0 0 0 1 1 1 1 1 1\n",
      "0 0 0 1 1 1 1 1 1 1\n",
      "0 0 1 1 1 1 1 1 1 1\n",
      "0 1 1 1 1 1 1 1 1 1\n",
      "1 1 1 1 1 1 1 1 1 1\n"
     ]
    }
   ],
   "source": [
    "h = 10\n",
    "w = 10\n",
    "\n",
    "arr = []\n",
    "for j in range(h, 0, -1):\n",
    "    arr.append(['0'] * (j - 1) + ['1'] * (h - j + 1))\n",
    "#arr = arr[::-1]#[[arr[i][j] for j in range(w) ] for i in range(h)]\n",
    "\n",
    "from functools import reduce\n",
    "lda = lambda x, y: x + ' ' + y\n",
    "print(h, w)\n",
    "for i in range(h):\n",
    "    print(reduce(lda, arr[i]))"
   ]
  },
  {
   "cell_type": "markdown",
   "source": [
    "## An upper triangular matrix generation"
   ],
   "metadata": {
    "collapsed": false
   }
  },
  {
   "cell_type": "code",
   "execution_count": 55,
   "metadata": {},
   "outputs": [
    {
     "name": "stdout",
     "output_type": "stream",
     "text": [
      "10 10\n",
      "1 1 1 1 1 1 1 1 1 0\n",
      "1 1 1 1 1 1 1 1 0 0\n",
      "1 1 1 1 1 1 1 0 0 0\n",
      "1 1 1 1 1 1 0 0 0 0\n",
      "1 1 1 1 1 0 0 0 0 0\n",
      "1 1 1 1 0 0 0 0 0 0\n",
      "1 1 1 0 0 0 0 0 0 0\n",
      "1 1 0 0 0 0 0 0 0 0\n",
      "1 0 0 0 0 0 0 0 0 0\n",
      "0 0 0 0 0 0 0 0 0 0\n"
     ]
    }
   ],
   "source": [
    "h = 10\n",
    "w = 10\n",
    "\n",
    "arr = []\n",
    "for j in range(h, 0, -1):\n",
    "    arr.append(['0'] * (h - j + 1)  + ['1'] * (j - 1))\n",
    "\n",
    "\n",
    "arr = [[arr[i][j] for i in range(h)] for j in range(w)]\n",
    "arr = arr[::-1]\n",
    "from functools import reduce\n",
    "lda = lambda x, y: x + ' ' + y\n",
    "print(h, w)\n",
    "for i in range(h):\n",
    "    print(reduce(lda, arr[i]))"
   ]
  },
  {
   "cell_type": "markdown",
   "source": [
    "## Writing tests to a file"
   ],
   "metadata": {
    "collapsed": false
   }
  },
  {
   "cell_type": "code",
   "execution_count": 5,
   "metadata": {},
   "outputs": [
    {
     "name": "stdout",
     "output_type": "stream",
     "text": [
      "This message will be displayed on the screen.\n"
     ]
    }
   ],
   "source": [
    "import sys\n",
    "\n",
    "original_stdout = sys.stdout # Save a reference to the original standard output\n",
    "\n",
    "with open('filename.txt', 'w') as f:\n",
    "    sys.stdout = f # Change the standard output to the file we created.\n",
    "    #sys.stdout = original_stdout\n",
    "    \n",
    "    h = 1000\n",
    "    w = 1000\n",
    "\n",
    "#     arr = []\n",
    "#     for j in range(h, 0, -1):\n",
    "#         arr.append(['0'] * (j - 1) + ['1'] * (h - j + 1))\n",
    "#     #arr = arr[::-1]#[[arr[i][j] for j in range(w) ] for i in range(h)]\n",
    "    arr = [['1' if np.random.rand() < 0.5 else '0' for i in range(w)] for j in range(h)]\n",
    "    \n",
    "    from functools import reduce\n",
    "    lda = lambda x, y: x + ' ' + y\n",
    "    print(h, w)\n",
    "    for i in range(h):\n",
    "        print(reduce(lda, arr[i]))\n",
    "    print(2550)\n",
    "    sys.stdout = original_stdout"
   ]
  },
  {
   "cell_type": "code",
   "execution_count": 58,
   "metadata": {},
   "outputs": [
    {
     "data": {
      "text/plain": [
       "2550"
      ]
     },
     "execution_count": 58,
     "metadata": {},
     "output_type": "execute_result"
    }
   ],
   "source": [
    "102 * 25"
   ]
  }
 ],
 "metadata": {
  "kernelspec": {
   "display_name": "Python 3",
   "language": "python",
   "name": "python3"
  },
  "language_info": {
   "codemirror_mode": {
    "name": "ipython",
    "version": 3
   },
   "file_extension": ".py",
   "mimetype": "text/x-python",
   "name": "python",
   "nbconvert_exporter": "python",
   "pygments_lexer": "ipython3",
   "version": "3.7.3"
  }
 },
 "nbformat": 4,
 "nbformat_minor": 4
}
